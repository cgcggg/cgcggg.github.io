---
layout: post
title:  "네이버(AI관련 기사 Crawling & Word Cloud!"
---

{
 "cells": [
  {
   "cell_type": "code",
   "execution_count": 1,
   "metadata": {},
   "outputs": [],
   "source": [
    "# 네이버에서 검색어 입력받아 검색 한 후 블로그 메뉴를 선택하고\n",
    "# 오른쪽에 있는 검색옵션 버튼을 눌러서\n",
    "# 정렬 방식과 기간을 입력하기\n",
    "\n",
    "#Step 0. 필요한 모듈과 라이브러리를 로딩합니다.\n",
    "import sys # 시스템\n",
    "import os  # 시스템\n",
    "\n",
    "import pandas as pd  # 판다스 : 데이터분석 라이브러리\n",
    "import numpy as np   # 넘파이 : 숫자, 행렬 데이터 라이브러리\n",
    "\n",
    "from bs4 import BeautifulSoup    # html 데이터를 전처리\n",
    "from selenium import webdriver   # 웹 브라우저 자동화\n",
    "import time    # 서버와 통신할 때 중간중간 시간 지연. 보통은 1초\n",
    "from tqdm import tqdm_notebook   # for문 돌릴 때 진행상황을 %게이지로 알려준다."
   ]
  },
  {
   "cell_type": "code",
   "execution_count": 7,
   "metadata": {},
   "outputs": [],
   "source": [
    "# # 3-1. 블로그 글 크롤링하기\n",
    "\n",
    "# url = url_load['url'][i]\n",
    "\n",
    "# driver = webdriver.Chrome(\"chromedriver.exe\") # 윈도우는 \"chromedriver.exe\"\n",
    "\n",
    "# driver.get(url) # 글 띄우기\n",
    "\n",
    "# 여기까지는 일반적인 페이지를 크롤링 하는 방법과 동일\n",
    "\n",
    "# ​\n",
    "\n",
    "# 페이지에서 내부 iframe이 존재할경우 프레임을 변경해주어야한다.\n",
    "\n",
    "# driver.switch_to.frame('mainFrame')"
   ]
  },
  {
   "cell_type": "code",
   "execution_count": 2,
   "metadata": {
    "scrolled": true
   },
   "outputs": [
    {
     "data": {
      "text/plain": [
       "'C:\\\\Users\\\\user\\\\study'"
      ]
     },
     "execution_count": 2,
     "metadata": {},
     "output_type": "execute_result"
    }
   ],
   "source": [
    "pwd"
   ]
  },
  {
   "cell_type": "code",
   "execution_count": 3,
   "metadata": {},
   "outputs": [],
   "source": [
    "path = '/Users/user/study/chromedriver.exe'    "
   ]
  },
  {
   "cell_type": "code",
   "execution_count": 6,
   "metadata": {},
   "outputs": [],
   "source": [
    "driver = webdriver.Chrome(path)\n",
    "driver.get('http://www.naver.com')\n",
    "time.sleep(2)"
   ]
  },
  {
   "cell_type": "code",
   "execution_count": 8,
   "metadata": {},
   "outputs": [],
   "source": [
    "element = driver.find_element_by_id('query')\n",
    "element.send_keys('AI')\n",
    "element.submit()"
   ]
  },
  {
   "cell_type": "code",
   "execution_count": 11,
   "metadata": {},
   "outputs": [],
   "source": [
    "driver.find_element_by_link_text(\"뉴스\").click()\n",
    "time.sleep(1)\n",
    "\n",
    "driver.find_element_by_link_text('최신순').click()\n",
    "time.sleep(1)"
   ]
  },
  {
   "cell_type": "code",
   "execution_count": 47,
   "metadata": {},
   "outputs": [],
   "source": [
    "url_list = []\n",
    "title_list = []"
   ]
  },
  {
   "cell_type": "code",
   "execution_count": 43,
   "metadata": {
    "collapsed": true
   },
   "outputs": [
    {
     "data": {
      "text/plain": [
       "[<selenium.webdriver.remote.webelement.WebElement (session=\"826a8d5420f9726be1ca4cc89606c089\", element=\"aa88eae2-c12d-4fce-87cd-6f908f289620\")>,\n",
       " <selenium.webdriver.remote.webelement.WebElement (session=\"826a8d5420f9726be1ca4cc89606c089\", element=\"643e052c-cd7b-4f74-9fe2-6e22bfdb2c48\")>,\n",
       " <selenium.webdriver.remote.webelement.WebElement (session=\"826a8d5420f9726be1ca4cc89606c089\", element=\"d985d2bf-a402-4f22-8202-f8aade6a8ee4\")>,\n",
       " <selenium.webdriver.remote.webelement.WebElement (session=\"826a8d5420f9726be1ca4cc89606c089\", element=\"3b5cf5f6-c7f6-4aaf-a105-d7781917a077\")>,\n",
       " <selenium.webdriver.remote.webelement.WebElement (session=\"826a8d5420f9726be1ca4cc89606c089\", element=\"9a0d3eb5-ff96-4a24-b4f7-ad299a1c3d40\")>,\n",
       " <selenium.webdriver.remote.webelement.WebElement (session=\"826a8d5420f9726be1ca4cc89606c089\", element=\"288dd533-fb83-4d3a-b27d-24c4a86a44ee\")>,\n",
       " <selenium.webdriver.remote.webelement.WebElement (session=\"826a8d5420f9726be1ca4cc89606c089\", element=\"872324a3-5f53-4576-83df-29deba3b8b86\")>,\n",
       " <selenium.webdriver.remote.webelement.WebElement (session=\"826a8d5420f9726be1ca4cc89606c089\", element=\"576360cc-e63e-4014-acc1-dcad21dfd9d0\")>,\n",
       " <selenium.webdriver.remote.webelement.WebElement (session=\"826a8d5420f9726be1ca4cc89606c089\", element=\"958af491-5849-4fb2-b03e-4a2f65d14b61\")>,\n",
       " <selenium.webdriver.remote.webelement.WebElement (session=\"826a8d5420f9726be1ca4cc89606c089\", element=\"159220fd-c7a4-4908-80fd-b772772c9bf6\")>]"
      ]
     },
     "execution_count": 43,
     "metadata": {},
     "output_type": "execute_result"
    }
   ],
   "source": [
    "article_ai = driver.find_elements_by_css_selector('a.news_tit')\n",
    "article_ai"
   ]
  },
  {
   "cell_type": "code",
   "execution_count": 46,
   "metadata": {},
   "outputs": [
    {
     "data": {
      "text/plain": [
       "'http://www.mdtoday.co.kr/mdtoday/index.html?no=423464'"
      ]
     },
     "execution_count": 46,
     "metadata": {},
     "output_type": "execute_result"
    }
   ],
   "source": [
    "article_ai[0].get_attribute('href')"
   ]
  },
  {
   "cell_type": "code",
   "execution_count": 52,
   "metadata": {
    "collapsed": true
   },
   "outputs": [
    {
     "name": "stdout",
     "output_type": "stream",
     "text": [
      "http://www.mdtoday.co.kr/mdtoday/index.html?no=423464\n",
      "http://www.aitimes.com/news/articleView.html?idxno=139156\n",
      "http://www.ohmynews.com/NWS_Web/View/at_pg.aspx?CNTN_CD=A0002754174&CMPT_CD=P0010&utm_source=naver&utm_medium=newsearch&utm_campaign=naver_news\n",
      "http://www.earlyadopter.co.kr/151360\n",
      "http://www.g-enews.com/ko-kr/news/article/news_all/202106240956045240c6fee23429_1/article.html\n",
      "http://www.mtnews.net/news/view.php?idx=11110\n",
      "http://www.kidd.co.kr/news/222851\n",
      "http://www.worktoday.co.kr/news/articleView.html?idxno=16433\n",
      "https://www.seoul.co.kr/news/newsView.php?id=20210624500067&wlog_tag3=naver\n",
      "https://www.hellot.net/news/article.html?no=59109\n",
      "파로스아이바이오, 180억 규모 시리즈C 투자유치 성공\n",
      "\"지스트에서 반짝이는 아이디어로 AI‧IoT 창업 꿈 펼치세요\"\n",
      "박종훈 교육감 \"미래교육체제 구축, 경남 전체가 교육 현장\"\n",
      "오토파일럿 그 이후, 테슬라 도조\n",
      "소프트뱅크 손정의, \"21세기 로스차일드 되고 싶다\"...정보혁명의 자본 공급자...\n",
      "조선·기계·뿌리소재 등 10대 업종 디지털 전환 ‘연대와 협업’ 네트워크 구...\n",
      "[포토뉴스] 일자리를 위한 청년들의 발걸음\n",
      "KAIST-SM 엔터테인먼트, 아바타 활용 메타버스 공연기술 연구 '맞손'\n",
      "SM 이수만 “에스파, 미래 엔터테인먼트 시작” 카이스트서 강연\n",
      "미래차·전자·조선 등 10대 업종별 ‘산업 디지털 전환 연대’ 결성 \n",
      "url갯수: 30\n",
      "title갯수: 20\n"
     ]
    }
   ],
   "source": [
    "for article in article_ai : \n",
    "    url = article.get_attribute('href')\n",
    "    url_list.append(url)\n",
    "\n",
    "    print(url)\n",
    "    time.sleep(1)\n",
    "for article in article_ai:\n",
    "    title = article.text\n",
    "    title_list.append(title)\n",
    "    \n",
    "    print(title)\n",
    "print('url갯수:', len(url_list))\n",
    "print('title갯수:', len(title_list))"
   ]
  },
  {
   "cell_type": "code",
   "execution_count": 64,
   "metadata": {},
   "outputs": [],
   "source": [
    "# 여러 번 실행시켜서 중복을 제거해줘야함."
   ]
  },
  {
   "cell_type": "code",
   "execution_count": 61,
   "metadata": {},
   "outputs": [],
   "source": [
    "listset = set(url_list)\n",
    "url_list2 = list(listset)"
   ]
  },
  {
   "cell_type": "code",
   "execution_count": 63,
   "metadata": {
    "collapsed": true
   },
   "outputs": [
    {
     "data": {
      "text/plain": [
       "['http://www.kidd.co.kr/news/222851',\n",
       " 'https://www.seoul.co.kr/news/newsView.php?id=20210624500067&wlog_tag3=naver',\n",
       " 'http://www.g-enews.com/ko-kr/news/article/news_all/202106240956045240c6fee23429_1/article.html',\n",
       " 'https://www.hellot.net/news/article.html?no=59109',\n",
       " 'http://www.mdtoday.co.kr/mdtoday/index.html?no=423464',\n",
       " 'http://www.aitimes.com/news/articleView.html?idxno=139156',\n",
       " 'http://www.ohmynews.com/NWS_Web/View/at_pg.aspx?CNTN_CD=A0002754174&CMPT_CD=P0010&utm_source=naver&utm_medium=newsearch&utm_campaign=naver_news',\n",
       " 'http://www.mtnews.net/news/view.php?idx=11110',\n",
       " 'http://www.worktoday.co.kr/news/articleView.html?idxno=16433',\n",
       " 'http://www.earlyadopter.co.kr/151360']"
      ]
     },
     "execution_count": 63,
     "metadata": {},
     "output_type": "execute_result"
    }
   ],
   "source": [
    "url_list2"
   ]
  },
  {
   "cell_type": "code",
   "execution_count": 65,
   "metadata": {},
   "outputs": [
    {
     "data": {
      "text/plain": [
       "10"
      ]
     },
     "execution_count": 65,
     "metadata": {},
     "output_type": "execute_result"
    }
   ],
   "source": [
    "listset2 = set(title_list)\n",
    "title_list2 = list(listset2)\n",
    "len(title_list2)"
   ]
  },
  {
   "cell_type": "code",
   "execution_count": 67,
   "metadata": {
    "collapsed": true
   },
   "outputs": [
    {
     "data": {
      "text/html": [
       "<div>\n",
       "<style scoped>\n",
       "    .dataframe tbody tr th:only-of-type {\n",
       "        vertical-align: middle;\n",
       "    }\n",
       "\n",
       "    .dataframe tbody tr th {\n",
       "        vertical-align: top;\n",
       "    }\n",
       "\n",
       "    .dataframe thead th {\n",
       "        text-align: right;\n",
       "    }\n",
       "</style>\n",
       "<table border=\"1\" class=\"dataframe\">\n",
       "  <thead>\n",
       "    <tr style=\"text-align: right;\">\n",
       "      <th></th>\n",
       "      <th>url</th>\n",
       "      <th>title</th>\n",
       "    </tr>\n",
       "  </thead>\n",
       "  <tbody>\n",
       "    <tr>\n",
       "      <th>0</th>\n",
       "      <td>http://www.kidd.co.kr/news/222851</td>\n",
       "      <td>파로스아이바이오, 180억 규모 시리즈C 투자유치 성공</td>\n",
       "    </tr>\n",
       "    <tr>\n",
       "      <th>1</th>\n",
       "      <td>https://www.seoul.co.kr/news/newsView.php?id=2...</td>\n",
       "      <td>SM 이수만 “에스파, 미래 엔터테인먼트 시작” 카이스트서 강연</td>\n",
       "    </tr>\n",
       "    <tr>\n",
       "      <th>2</th>\n",
       "      <td>http://www.g-enews.com/ko-kr/news/article/news...</td>\n",
       "      <td>소프트뱅크 손정의, \"21세기 로스차일드 되고 싶다\"...정보혁명의 자본 공급자...</td>\n",
       "    </tr>\n",
       "    <tr>\n",
       "      <th>3</th>\n",
       "      <td>https://www.hellot.net/news/article.html?no=59109</td>\n",
       "      <td>KAIST-SM 엔터테인먼트, 아바타 활용 메타버스 공연기술 연구 '맞손'</td>\n",
       "    </tr>\n",
       "    <tr>\n",
       "      <th>4</th>\n",
       "      <td>http://www.mdtoday.co.kr/mdtoday/index.html?no...</td>\n",
       "      <td>오토파일럿 그 이후, 테슬라 도조</td>\n",
       "    </tr>\n",
       "    <tr>\n",
       "      <th>5</th>\n",
       "      <td>http://www.aitimes.com/news/articleView.html?i...</td>\n",
       "      <td>박종훈 교육감 \"미래교육체제 구축, 경남 전체가 교육 현장\"</td>\n",
       "    </tr>\n",
       "    <tr>\n",
       "      <th>6</th>\n",
       "      <td>http://www.ohmynews.com/NWS_Web/View/at_pg.asp...</td>\n",
       "      <td>[포토뉴스] 일자리를 위한 청년들의 발걸음</td>\n",
       "    </tr>\n",
       "    <tr>\n",
       "      <th>7</th>\n",
       "      <td>http://www.mtnews.net/news/view.php?idx=11110</td>\n",
       "      <td>조선·기계·뿌리소재 등 10대 업종 디지털 전환 ‘연대와 협업’ 네트워크 구...</td>\n",
       "    </tr>\n",
       "    <tr>\n",
       "      <th>8</th>\n",
       "      <td>http://www.worktoday.co.kr/news/articleView.ht...</td>\n",
       "      <td>미래차·전자·조선 등 10대 업종별 ‘산업 디지털 전환 연대’ 결성</td>\n",
       "    </tr>\n",
       "    <tr>\n",
       "      <th>9</th>\n",
       "      <td>http://www.earlyadopter.co.kr/151360</td>\n",
       "      <td>\"지스트에서 반짝이는 아이디어로 AI‧IoT 창업 꿈 펼치세요\"</td>\n",
       "    </tr>\n",
       "  </tbody>\n",
       "</table>\n",
       "</div>"
      ],
      "text/plain": [
       "                                                 url  \\\n",
       "0                  http://www.kidd.co.kr/news/222851   \n",
       "1  https://www.seoul.co.kr/news/newsView.php?id=2...   \n",
       "2  http://www.g-enews.com/ko-kr/news/article/news...   \n",
       "3  https://www.hellot.net/news/article.html?no=59109   \n",
       "4  http://www.mdtoday.co.kr/mdtoday/index.html?no...   \n",
       "5  http://www.aitimes.com/news/articleView.html?i...   \n",
       "6  http://www.ohmynews.com/NWS_Web/View/at_pg.asp...   \n",
       "7      http://www.mtnews.net/news/view.php?idx=11110   \n",
       "8  http://www.worktoday.co.kr/news/articleView.ht...   \n",
       "9               http://www.earlyadopter.co.kr/151360   \n",
       "\n",
       "                                             title  \n",
       "0                   파로스아이바이오, 180억 규모 시리즈C 투자유치 성공  \n",
       "1              SM 이수만 “에스파, 미래 엔터테인먼트 시작” 카이스트서 강연  \n",
       "2  소프트뱅크 손정의, \"21세기 로스차일드 되고 싶다\"...정보혁명의 자본 공급자...  \n",
       "3        KAIST-SM 엔터테인먼트, 아바타 활용 메타버스 공연기술 연구 '맞손'  \n",
       "4                               오토파일럿 그 이후, 테슬라 도조  \n",
       "5                박종훈 교육감 \"미래교육체제 구축, 경남 전체가 교육 현장\"  \n",
       "6                          [포토뉴스] 일자리를 위한 청년들의 발걸음  \n",
       "7    조선·기계·뿌리소재 등 10대 업종 디지털 전환 ‘연대와 협업’ 네트워크 구...  \n",
       "8           미래차·전자·조선 등 10대 업종별 ‘산업 디지털 전환 연대’ 결성   \n",
       "9              \"지스트에서 반짝이는 아이디어로 AI‧IoT 창업 꿈 펼치세요\"  "
      ]
     },
     "execution_count": 67,
     "metadata": {},
     "output_type": "execute_result"
    }
   ],
   "source": [
    "ai_df = pd.DataFrame({'url': url_list2, 'title': title_list2})\n",
    "ai_df"
   ]
  },
  {
   "cell_type": "code",
   "execution_count": 66,
   "metadata": {},
   "outputs": [],
   "source": [
    "# 10페이지까지 url & title을 가져오기"
   ]
  },
  {
   "cell_type": "code",
   "execution_count": 72,
   "metadata": {},
   "outputs": [
    {
     "name": "stdout",
     "output_type": "stream",
     "text": [
      "몇페이지까지 크롤링할거야?:10\n"
     ]
    }
   ],
   "source": [
    "n = int(input('몇페이지까지 크롤링할거야?:'))\n",
    "page = [i for i in range(1,n)]"
   ]
  },
  {
   "cell_type": "code",
   "execution_count": 73,
   "metadata": {
    "collapsed": true
   },
   "outputs": [
    {
     "ename": "WebDriverException",
     "evalue": "Message: chrome not reachable\n  (Session info: chrome=91.0.4472.106)\n",
     "output_type": "error",
     "traceback": [
      "\u001b[1;31m---------------------------------------------------------------------------\u001b[0m",
      "\u001b[1;31mWebDriverException\u001b[0m                        Traceback (most recent call last)",
      "\u001b[1;32m<ipython-input-73-b7fceec4eb32>\u001b[0m in \u001b[0;36m<module>\u001b[1;34m\u001b[0m\n\u001b[0;32m      1\u001b[0m \u001b[1;32mfor\u001b[0m \u001b[0mi\u001b[0m \u001b[1;32min\u001b[0m \u001b[0mpage\u001b[0m \u001b[1;33m:\u001b[0m\u001b[1;33m\u001b[0m\u001b[1;33m\u001b[0m\u001b[0m\n\u001b[1;32m----> 2\u001b[1;33m     \u001b[0mdriver\u001b[0m\u001b[1;33m.\u001b[0m\u001b[0mfind_element_by_link_text\u001b[0m\u001b[1;33m(\u001b[0m\u001b[0mi\u001b[0m\u001b[1;33m)\u001b[0m\u001b[1;33m.\u001b[0m\u001b[0mclick\u001b[0m\u001b[1;33m(\u001b[0m\u001b[1;33m)\u001b[0m\u001b[1;33m\u001b[0m\u001b[1;33m\u001b[0m\u001b[0m\n\u001b[0m\u001b[0;32m      3\u001b[0m     \u001b[0mtime\u001b[0m\u001b[1;33m.\u001b[0m\u001b[0msleep\u001b[0m\u001b[1;33m(\u001b[0m\u001b[1;36m10\u001b[0m\u001b[1;33m)\u001b[0m\u001b[1;33m\u001b[0m\u001b[1;33m\u001b[0m\u001b[0m\n",
      "\u001b[1;32mC:\\ProgramData\\Anaconda3\\lib\\site-packages\\selenium\\webdriver\\remote\\webdriver.py\u001b[0m in \u001b[0;36mfind_element_by_link_text\u001b[1;34m(self, link_text)\u001b[0m\n\u001b[0;32m    426\u001b[0m             \u001b[0melement\u001b[0m \u001b[1;33m=\u001b[0m \u001b[0mdriver\u001b[0m\u001b[1;33m.\u001b[0m\u001b[0mfind_element_by_link_text\u001b[0m\u001b[1;33m(\u001b[0m\u001b[1;34m'Sign In'\u001b[0m\u001b[1;33m)\u001b[0m\u001b[1;33m\u001b[0m\u001b[1;33m\u001b[0m\u001b[0m\n\u001b[0;32m    427\u001b[0m         \"\"\"\n\u001b[1;32m--> 428\u001b[1;33m         \u001b[1;32mreturn\u001b[0m \u001b[0mself\u001b[0m\u001b[1;33m.\u001b[0m\u001b[0mfind_element\u001b[0m\u001b[1;33m(\u001b[0m\u001b[0mby\u001b[0m\u001b[1;33m=\u001b[0m\u001b[0mBy\u001b[0m\u001b[1;33m.\u001b[0m\u001b[0mLINK_TEXT\u001b[0m\u001b[1;33m,\u001b[0m \u001b[0mvalue\u001b[0m\u001b[1;33m=\u001b[0m\u001b[0mlink_text\u001b[0m\u001b[1;33m)\u001b[0m\u001b[1;33m\u001b[0m\u001b[1;33m\u001b[0m\u001b[0m\n\u001b[0m\u001b[0;32m    429\u001b[0m \u001b[1;33m\u001b[0m\u001b[0m\n\u001b[0;32m    430\u001b[0m     \u001b[1;32mdef\u001b[0m \u001b[0mfind_elements_by_link_text\u001b[0m\u001b[1;33m(\u001b[0m\u001b[0mself\u001b[0m\u001b[1;33m,\u001b[0m \u001b[0mtext\u001b[0m\u001b[1;33m)\u001b[0m\u001b[1;33m:\u001b[0m\u001b[1;33m\u001b[0m\u001b[1;33m\u001b[0m\u001b[0m\n",
      "\u001b[1;32mC:\\ProgramData\\Anaconda3\\lib\\site-packages\\selenium\\webdriver\\remote\\webdriver.py\u001b[0m in \u001b[0;36mfind_element\u001b[1;34m(self, by, value)\u001b[0m\n\u001b[0;32m    974\u001b[0m                 \u001b[0mby\u001b[0m \u001b[1;33m=\u001b[0m \u001b[0mBy\u001b[0m\u001b[1;33m.\u001b[0m\u001b[0mCSS_SELECTOR\u001b[0m\u001b[1;33m\u001b[0m\u001b[1;33m\u001b[0m\u001b[0m\n\u001b[0;32m    975\u001b[0m                 \u001b[0mvalue\u001b[0m \u001b[1;33m=\u001b[0m \u001b[1;34m'[name=\"%s\"]'\u001b[0m \u001b[1;33m%\u001b[0m \u001b[0mvalue\u001b[0m\u001b[1;33m\u001b[0m\u001b[1;33m\u001b[0m\u001b[0m\n\u001b[1;32m--> 976\u001b[1;33m         return self.execute(Command.FIND_ELEMENT, {\n\u001b[0m\u001b[0;32m    977\u001b[0m             \u001b[1;34m'using'\u001b[0m\u001b[1;33m:\u001b[0m \u001b[0mby\u001b[0m\u001b[1;33m,\u001b[0m\u001b[1;33m\u001b[0m\u001b[1;33m\u001b[0m\u001b[0m\n\u001b[0;32m    978\u001b[0m             'value': value})['value']\n",
      "\u001b[1;32mC:\\ProgramData\\Anaconda3\\lib\\site-packages\\selenium\\webdriver\\remote\\webdriver.py\u001b[0m in \u001b[0;36mexecute\u001b[1;34m(self, driver_command, params)\u001b[0m\n\u001b[0;32m    319\u001b[0m         \u001b[0mresponse\u001b[0m \u001b[1;33m=\u001b[0m \u001b[0mself\u001b[0m\u001b[1;33m.\u001b[0m\u001b[0mcommand_executor\u001b[0m\u001b[1;33m.\u001b[0m\u001b[0mexecute\u001b[0m\u001b[1;33m(\u001b[0m\u001b[0mdriver_command\u001b[0m\u001b[1;33m,\u001b[0m \u001b[0mparams\u001b[0m\u001b[1;33m)\u001b[0m\u001b[1;33m\u001b[0m\u001b[1;33m\u001b[0m\u001b[0m\n\u001b[0;32m    320\u001b[0m         \u001b[1;32mif\u001b[0m \u001b[0mresponse\u001b[0m\u001b[1;33m:\u001b[0m\u001b[1;33m\u001b[0m\u001b[1;33m\u001b[0m\u001b[0m\n\u001b[1;32m--> 321\u001b[1;33m             \u001b[0mself\u001b[0m\u001b[1;33m.\u001b[0m\u001b[0merror_handler\u001b[0m\u001b[1;33m.\u001b[0m\u001b[0mcheck_response\u001b[0m\u001b[1;33m(\u001b[0m\u001b[0mresponse\u001b[0m\u001b[1;33m)\u001b[0m\u001b[1;33m\u001b[0m\u001b[1;33m\u001b[0m\u001b[0m\n\u001b[0m\u001b[0;32m    322\u001b[0m             response['value'] = self._unwrap_value(\n\u001b[0;32m    323\u001b[0m                 response.get('value', None))\n",
      "\u001b[1;32mC:\\ProgramData\\Anaconda3\\lib\\site-packages\\selenium\\webdriver\\remote\\errorhandler.py\u001b[0m in \u001b[0;36mcheck_response\u001b[1;34m(self, response)\u001b[0m\n\u001b[0;32m    240\u001b[0m                 \u001b[0malert_text\u001b[0m \u001b[1;33m=\u001b[0m \u001b[0mvalue\u001b[0m\u001b[1;33m[\u001b[0m\u001b[1;34m'alert'\u001b[0m\u001b[1;33m]\u001b[0m\u001b[1;33m.\u001b[0m\u001b[0mget\u001b[0m\u001b[1;33m(\u001b[0m\u001b[1;34m'text'\u001b[0m\u001b[1;33m)\u001b[0m\u001b[1;33m\u001b[0m\u001b[1;33m\u001b[0m\u001b[0m\n\u001b[0;32m    241\u001b[0m             \u001b[1;32mraise\u001b[0m \u001b[0mexception_class\u001b[0m\u001b[1;33m(\u001b[0m\u001b[0mmessage\u001b[0m\u001b[1;33m,\u001b[0m \u001b[0mscreen\u001b[0m\u001b[1;33m,\u001b[0m \u001b[0mstacktrace\u001b[0m\u001b[1;33m,\u001b[0m \u001b[0malert_text\u001b[0m\u001b[1;33m)\u001b[0m\u001b[1;33m\u001b[0m\u001b[1;33m\u001b[0m\u001b[0m\n\u001b[1;32m--> 242\u001b[1;33m         \u001b[1;32mraise\u001b[0m \u001b[0mexception_class\u001b[0m\u001b[1;33m(\u001b[0m\u001b[0mmessage\u001b[0m\u001b[1;33m,\u001b[0m \u001b[0mscreen\u001b[0m\u001b[1;33m,\u001b[0m \u001b[0mstacktrace\u001b[0m\u001b[1;33m)\u001b[0m\u001b[1;33m\u001b[0m\u001b[1;33m\u001b[0m\u001b[0m\n\u001b[0m\u001b[0;32m    243\u001b[0m \u001b[1;33m\u001b[0m\u001b[0m\n\u001b[0;32m    244\u001b[0m     \u001b[1;32mdef\u001b[0m \u001b[0m_value_or_default\u001b[0m\u001b[1;33m(\u001b[0m\u001b[0mself\u001b[0m\u001b[1;33m,\u001b[0m \u001b[0mobj\u001b[0m\u001b[1;33m,\u001b[0m \u001b[0mkey\u001b[0m\u001b[1;33m,\u001b[0m \u001b[0mdefault\u001b[0m\u001b[1;33m)\u001b[0m\u001b[1;33m:\u001b[0m\u001b[1;33m\u001b[0m\u001b[1;33m\u001b[0m\u001b[0m\n",
      "\u001b[1;31mWebDriverException\u001b[0m: Message: chrome not reachable\n  (Session info: chrome=91.0.4472.106)\n"
     ]
    }
   ],
   "source": [
    "for i in page :\n",
    "    driver.find_element_by_link_text(i).click()\n",
    "    time.sleep(10)"
   ]
  },
  {
   "cell_type": "code",
   "execution_count": 80,
   "metadata": {},
   "outputs": [],
   "source": [
    "# 네이버 ai 크롤링 (원하는 페이지)"
   ]
  },
  {
   "cell_type": "code",
   "execution_count": 90,
   "metadata": {
    "collapsed": true
   },
   "outputs": [
    {
     "name": "stdout",
     "output_type": "stream",
     "text": [
      "몇페이지까지 크롤링할거야?:3\n",
      "http://www.consumernews.co.kr/news/articleView.html?idxno=629458\n",
      "http://news.mk.co.kr/newsRead.php?no=611874&year=2021\n",
      "http://www.irobotnews.com/news/articleView.html?idxno=25377\n",
      "https://www.hankyung.com/politics/article/2021062410571\n",
      "http://www.updownnews.co.kr/news/articleView.html?idxno=232921\n",
      "http://www.sporbiz.co.kr/news/articleView.html?idxno=528124\n",
      "http://www.m-i.kr/news/articleView.html?idxno=840202\n",
      "https://view.asiae.co.kr/article/2021062415162308451\n",
      "http://www.digitaltoday.co.kr/news/articleView.html?idxno=407145\n",
      "http://www.busan.com/view/busan/view.php?code=2021062415075169176\n",
      "AAI헬스케어, 국내 주요 기업 임직원 대상 '부모안심' 서비스 출시\n",
      "손동연 두산인프라 사장 \"데이터기반 의사결정이 미래경쟁력 핵심\"\n",
      "美 버크셔 그레이, 창고용 새 AI 이동로봇 공개\n",
      "진격의 'K방산'…첨단무기 이어 우주까지 넘본다\n",
      "SK텔레콤, 디지털 사각지대 전담센터 개소...정보화 격차 해소\n",
      "SKT, '디지털 사각지대 전담센터'로 정보격차 해소한다\n",
      "엎치락뒤치락 1위 경쟁, 여성 패션 부문 이커머스서 춘추전국시대 \n",
      "광주소방본부, 전국 최초 ‘AI 기반 119신고접수시스템’ 구축 추진\n",
      "산업부, 10대 업종 산업 디지털 전환 연대 결성\n",
      "박종훈 경남교육감, 3선 불출마 입장 번복할듯\n",
      "http://www.digitaltoday.co.kr/news/articleView.html?idxno=407145\n",
      "https://www.sedaily.com/NewsView/22NREWR1VY\n",
      "https://www.ekn.kr/web/view.php?key=20210624010004656\n",
      "https://www.dnews.co.kr/uhtml/view.jsp?idxno=202106241506068010637\n",
      "http://news.mt.co.kr/mtview.php?no=2021062411075069706\n",
      "http://www.gvalley.co.kr/news/articleView.html?idxno=581374\n",
      "https://www.asiatime.co.kr/article/20210624500288\n",
      "http://mbnmoney.mbn.co.kr/news/view?news_no=MM1004371349\n",
      "http://www.enewstoday.co.kr/news/articleView.html?idxno=1490505\n",
      "http://realty.chosun.com/site/data/html_dir/2021/06/24/2021062401450.html\n",
      "산업부, 10대 업종 산업 디지털 전환 연대 결성\n",
      "에스디하우징X세수X에스엘비, RE100 플랫폼 비즈니스센터 품은 주상복합 프로...\n",
      "패션앱도 카카오, 지그재그 인수로 단숨에 업계1위 등극\n",
      "SKT, 남산에 정보소외계층 위한 디지털 전담센터 개소\n",
      "중기부, 탄소저감 등 강원·충청·경북에 규제자유특구 추진한다\n",
      "KT, 초등교육 콘텐츠 및 기술 공모전 시상식 개최\n",
      "한강 다리에 AI 기반 CCTV 설치된다… 프라이버시 침해 논란\n",
      "삼성·LG도 가세한 가전·렌털업계 '홈케어 서비스' 열전\n",
      "내 차에서 제품 추천에 결재까지…투비소프트, AI 기반 맞춤형 상품 추천 장치...\n",
      "진흥기업·효성중공업 '효성해링턴 플레이스 상무역' 분양 예정\n",
      "https://www.asiatime.co.kr/article/20210624500288\n",
      "http://www.gvalley.co.kr/news/articleView.html?idxno=581374\n",
      "http://mbnmoney.mbn.co.kr/news/view?news_no=MM1004371349\n",
      "http://realty.chosun.com/site/data/html_dir/2021/06/24/2021062401450.html\n",
      "http://www.enewstoday.co.kr/news/articleView.html?idxno=1490505\n",
      "http://www.cnbnews.com/news/article.html?no=498526\n",
      "https://www.news1.kr/articles/?4349918\n",
      "https://sports.donga.com/article/all/20210624/107621457/1\n",
      "http://www.datanet.co.kr/news/articleView.html?idxno=161128\n",
      "http://www.kpinews.co.kr/news/articleView.html?idxno=150459\n",
      "한강 다리에 AI 기반 CCTV 설치된다… 프라이버시 침해 논란\n",
      "KT, 초등교육 콘텐츠 및 기술 공모전 시상식 개최\n",
      "삼성·LG도 가세한 가전·렌털업계 '홈케어 서비스' 열전\n",
      "진흥기업·효성중공업 '효성해링턴 플레이스 상무역' 분양 예정\n",
      "내 차에서 제품 추천에 결재까지…투비소프트, AI 기반 맞춤형 상품 추천 장치...\n",
      "박종훈 교육감 \"미래교육체제 구축해 경남교육 새 비전 제시하겠다\"\n",
      "KLA, 반도체칩 수율과 신뢰성 향상을 위한 자동차용 신제품 포트폴리오 출시\n",
      "정보화 격차 줄인다…SKT, 전담센터 개소\n",
      "메가존클라우드, 1900억 규모 시리즈 B 투자 유치 성료…세일즈포스 등 참여\n",
      "도로공사, 7월 7일부터 고속도로 휴게소서 폐플라스틱 재활용 캠페인\n",
      "url갯수: 30\n",
      "title갯수: 30\n"
     ]
    }
   ],
   "source": [
    "n = int(input('몇페이지까지 크롤링할거야?:'))\n",
    "page = [str(i) for i in range(1,n+1)]\n",
    "\n",
    "driver = webdriver.Chrome(path)\n",
    "driver.get('http://www.naver.com')\n",
    "time.sleep(2)\n",
    "\n",
    "element = driver.find_element_by_id('query')\n",
    "element.send_keys('AI')\n",
    "element.submit()\n",
    "\n",
    "driver.find_element_by_link_text(\"뉴스\").click()\n",
    "time.sleep(1)\n",
    "\n",
    "driver.find_element_by_link_text('최신순').click()\n",
    "time.sleep(1)\n",
    "\n",
    "url_list = []\n",
    "title_list = []\n",
    "\n",
    "\n",
    "for i in page :\n",
    "    driver.find_element_by_link_text(i).click()\n",
    "    time.sleep(3)\n",
    "    article_ai = driver.find_elements_by_css_selector('a.news_tit')\n",
    "    for article in article_ai : \n",
    "        url = article.get_attribute('href')\n",
    "        url_list.append(url)\n",
    "        time.sleep(1)\n",
    "        print(url)\n",
    "    for article in article_ai:\n",
    "        title = article.text\n",
    "        title_list.append(title)\n",
    "        print(title)\n",
    "        \n",
    "print('url갯수:', len(url_list))\n",
    "print('title갯수:', len(title_list))\n",
    "\n",
    "ai_df = pd.DataFrame({'url': url_list, 'title': title_list})"
   ]
  },
  {
   "cell_type": "code",
   "execution_count": 91,
   "metadata": {},
   "outputs": [],
   "source": [
    "ai_df = pd.DataFrame({'url': url_list, 'title': title_list})"
   ]
  },
  {
   "cell_type": "code",
   "execution_count": 92,
   "metadata": {
    "collapsed": true
   },
   "outputs": [
    {
     "data": {
      "text/html": [
       "<div>\n",
       "<style scoped>\n",
       "    .dataframe tbody tr th:only-of-type {\n",
       "        vertical-align: middle;\n",
       "    }\n",
       "\n",
       "    .dataframe tbody tr th {\n",
       "        vertical-align: top;\n",
       "    }\n",
       "\n",
       "    .dataframe thead th {\n",
       "        text-align: right;\n",
       "    }\n",
       "</style>\n",
       "<table border=\"1\" class=\"dataframe\">\n",
       "  <thead>\n",
       "    <tr style=\"text-align: right;\">\n",
       "      <th></th>\n",
       "      <th>url</th>\n",
       "      <th>title</th>\n",
       "    </tr>\n",
       "  </thead>\n",
       "  <tbody>\n",
       "    <tr>\n",
       "      <th>0</th>\n",
       "      <td>http://www.consumernews.co.kr/news/articleView...</td>\n",
       "      <td>AAI헬스케어, 국내 주요 기업 임직원 대상 '부모안심' 서비스 출시</td>\n",
       "    </tr>\n",
       "    <tr>\n",
       "      <th>1</th>\n",
       "      <td>http://news.mk.co.kr/newsRead.php?no=611874&amp;ye...</td>\n",
       "      <td>손동연 두산인프라 사장 \"데이터기반 의사결정이 미래경쟁력 핵심\"</td>\n",
       "    </tr>\n",
       "    <tr>\n",
       "      <th>2</th>\n",
       "      <td>http://www.irobotnews.com/news/articleView.htm...</td>\n",
       "      <td>美 버크셔 그레이, 창고용 새 AI 이동로봇 공개</td>\n",
       "    </tr>\n",
       "    <tr>\n",
       "      <th>3</th>\n",
       "      <td>https://www.hankyung.com/politics/article/2021...</td>\n",
       "      <td>진격의 'K방산'…첨단무기 이어 우주까지 넘본다</td>\n",
       "    </tr>\n",
       "    <tr>\n",
       "      <th>4</th>\n",
       "      <td>http://www.updownnews.co.kr/news/articleView.h...</td>\n",
       "      <td>SK텔레콤, 디지털 사각지대 전담센터 개소...정보화 격차 해소</td>\n",
       "    </tr>\n",
       "    <tr>\n",
       "      <th>5</th>\n",
       "      <td>http://www.sporbiz.co.kr/news/articleView.html...</td>\n",
       "      <td>SKT, '디지털 사각지대 전담센터'로 정보격차 해소한다</td>\n",
       "    </tr>\n",
       "    <tr>\n",
       "      <th>6</th>\n",
       "      <td>http://www.m-i.kr/news/articleView.html?idxno=...</td>\n",
       "      <td>엎치락뒤치락 1위 경쟁, 여성 패션 부문 이커머스서 춘추전국시대</td>\n",
       "    </tr>\n",
       "    <tr>\n",
       "      <th>7</th>\n",
       "      <td>https://view.asiae.co.kr/article/2021062415162...</td>\n",
       "      <td>광주소방본부, 전국 최초 ‘AI 기반 119신고접수시스템’ 구축 추진</td>\n",
       "    </tr>\n",
       "    <tr>\n",
       "      <th>8</th>\n",
       "      <td>http://www.digitaltoday.co.kr/news/articleView...</td>\n",
       "      <td>산업부, 10대 업종 산업 디지털 전환 연대 결성</td>\n",
       "    </tr>\n",
       "    <tr>\n",
       "      <th>9</th>\n",
       "      <td>http://www.busan.com/view/busan/view.php?code=...</td>\n",
       "      <td>박종훈 경남교육감, 3선 불출마 입장 번복할듯</td>\n",
       "    </tr>\n",
       "    <tr>\n",
       "      <th>10</th>\n",
       "      <td>http://www.digitaltoday.co.kr/news/articleView...</td>\n",
       "      <td>산업부, 10대 업종 산업 디지털 전환 연대 결성</td>\n",
       "    </tr>\n",
       "    <tr>\n",
       "      <th>11</th>\n",
       "      <td>https://www.sedaily.com/NewsView/22NREWR1VY</td>\n",
       "      <td>에스디하우징X세수X에스엘비, RE100 플랫폼 비즈니스센터 품은 주상복합 프로...</td>\n",
       "    </tr>\n",
       "    <tr>\n",
       "      <th>12</th>\n",
       "      <td>https://www.ekn.kr/web/view.php?key=2021062401...</td>\n",
       "      <td>패션앱도 카카오, 지그재그 인수로 단숨에 업계1위 등극</td>\n",
       "    </tr>\n",
       "    <tr>\n",
       "      <th>13</th>\n",
       "      <td>https://www.dnews.co.kr/uhtml/view.jsp?idxno=2...</td>\n",
       "      <td>SKT, 남산에 정보소외계층 위한 디지털 전담센터 개소</td>\n",
       "    </tr>\n",
       "    <tr>\n",
       "      <th>14</th>\n",
       "      <td>http://news.mt.co.kr/mtview.php?no=20210624110...</td>\n",
       "      <td>중기부, 탄소저감 등 강원·충청·경북에 규제자유특구 추진한다</td>\n",
       "    </tr>\n",
       "    <tr>\n",
       "      <th>15</th>\n",
       "      <td>http://www.gvalley.co.kr/news/articleView.html...</td>\n",
       "      <td>KT, 초등교육 콘텐츠 및 기술 공모전 시상식 개최</td>\n",
       "    </tr>\n",
       "    <tr>\n",
       "      <th>16</th>\n",
       "      <td>https://www.asiatime.co.kr/article/20210624500288</td>\n",
       "      <td>한강 다리에 AI 기반 CCTV 설치된다… 프라이버시 침해 논란</td>\n",
       "    </tr>\n",
       "    <tr>\n",
       "      <th>17</th>\n",
       "      <td>http://mbnmoney.mbn.co.kr/news/view?news_no=MM...</td>\n",
       "      <td>삼성·LG도 가세한 가전·렌털업계 '홈케어 서비스' 열전</td>\n",
       "    </tr>\n",
       "    <tr>\n",
       "      <th>18</th>\n",
       "      <td>http://www.enewstoday.co.kr/news/articleView.h...</td>\n",
       "      <td>내 차에서 제품 추천에 결재까지…투비소프트, AI 기반 맞춤형 상품 추천 장치...</td>\n",
       "    </tr>\n",
       "    <tr>\n",
       "      <th>19</th>\n",
       "      <td>http://realty.chosun.com/site/data/html_dir/20...</td>\n",
       "      <td>진흥기업·효성중공업 '효성해링턴 플레이스 상무역' 분양 예정</td>\n",
       "    </tr>\n",
       "    <tr>\n",
       "      <th>20</th>\n",
       "      <td>https://www.asiatime.co.kr/article/20210624500288</td>\n",
       "      <td>한강 다리에 AI 기반 CCTV 설치된다… 프라이버시 침해 논란</td>\n",
       "    </tr>\n",
       "    <tr>\n",
       "      <th>21</th>\n",
       "      <td>http://www.gvalley.co.kr/news/articleView.html...</td>\n",
       "      <td>KT, 초등교육 콘텐츠 및 기술 공모전 시상식 개최</td>\n",
       "    </tr>\n",
       "    <tr>\n",
       "      <th>22</th>\n",
       "      <td>http://mbnmoney.mbn.co.kr/news/view?news_no=MM...</td>\n",
       "      <td>삼성·LG도 가세한 가전·렌털업계 '홈케어 서비스' 열전</td>\n",
       "    </tr>\n",
       "    <tr>\n",
       "      <th>23</th>\n",
       "      <td>http://realty.chosun.com/site/data/html_dir/20...</td>\n",
       "      <td>진흥기업·효성중공업 '효성해링턴 플레이스 상무역' 분양 예정</td>\n",
       "    </tr>\n",
       "    <tr>\n",
       "      <th>24</th>\n",
       "      <td>http://www.enewstoday.co.kr/news/articleView.h...</td>\n",
       "      <td>내 차에서 제품 추천에 결재까지…투비소프트, AI 기반 맞춤형 상품 추천 장치...</td>\n",
       "    </tr>\n",
       "    <tr>\n",
       "      <th>25</th>\n",
       "      <td>http://www.cnbnews.com/news/article.html?no=49...</td>\n",
       "      <td>박종훈 교육감 \"미래교육체제 구축해 경남교육 새 비전 제시하겠다\"</td>\n",
       "    </tr>\n",
       "    <tr>\n",
       "      <th>26</th>\n",
       "      <td>https://www.news1.kr/articles/?4349918</td>\n",
       "      <td>KLA, 반도체칩 수율과 신뢰성 향상을 위한 자동차용 신제품 포트폴리오 출시</td>\n",
       "    </tr>\n",
       "    <tr>\n",
       "      <th>27</th>\n",
       "      <td>https://sports.donga.com/article/all/20210624/...</td>\n",
       "      <td>정보화 격차 줄인다…SKT, 전담센터 개소</td>\n",
       "    </tr>\n",
       "    <tr>\n",
       "      <th>28</th>\n",
       "      <td>http://www.datanet.co.kr/news/articleView.html...</td>\n",
       "      <td>메가존클라우드, 1900억 규모 시리즈 B 투자 유치 성료…세일즈포스 등 참여</td>\n",
       "    </tr>\n",
       "    <tr>\n",
       "      <th>29</th>\n",
       "      <td>http://www.kpinews.co.kr/news/articleView.html...</td>\n",
       "      <td>도로공사, 7월 7일부터 고속도로 휴게소서 폐플라스틱 재활용 캠페인</td>\n",
       "    </tr>\n",
       "  </tbody>\n",
       "</table>\n",
       "</div>"
      ],
      "text/plain": [
       "                                                  url  \\\n",
       "0   http://www.consumernews.co.kr/news/articleView...   \n",
       "1   http://news.mk.co.kr/newsRead.php?no=611874&ye...   \n",
       "2   http://www.irobotnews.com/news/articleView.htm...   \n",
       "3   https://www.hankyung.com/politics/article/2021...   \n",
       "4   http://www.updownnews.co.kr/news/articleView.h...   \n",
       "5   http://www.sporbiz.co.kr/news/articleView.html...   \n",
       "6   http://www.m-i.kr/news/articleView.html?idxno=...   \n",
       "7   https://view.asiae.co.kr/article/2021062415162...   \n",
       "8   http://www.digitaltoday.co.kr/news/articleView...   \n",
       "9   http://www.busan.com/view/busan/view.php?code=...   \n",
       "10  http://www.digitaltoday.co.kr/news/articleView...   \n",
       "11        https://www.sedaily.com/NewsView/22NREWR1VY   \n",
       "12  https://www.ekn.kr/web/view.php?key=2021062401...   \n",
       "13  https://www.dnews.co.kr/uhtml/view.jsp?idxno=2...   \n",
       "14  http://news.mt.co.kr/mtview.php?no=20210624110...   \n",
       "15  http://www.gvalley.co.kr/news/articleView.html...   \n",
       "16  https://www.asiatime.co.kr/article/20210624500288   \n",
       "17  http://mbnmoney.mbn.co.kr/news/view?news_no=MM...   \n",
       "18  http://www.enewstoday.co.kr/news/articleView.h...   \n",
       "19  http://realty.chosun.com/site/data/html_dir/20...   \n",
       "20  https://www.asiatime.co.kr/article/20210624500288   \n",
       "21  http://www.gvalley.co.kr/news/articleView.html...   \n",
       "22  http://mbnmoney.mbn.co.kr/news/view?news_no=MM...   \n",
       "23  http://realty.chosun.com/site/data/html_dir/20...   \n",
       "24  http://www.enewstoday.co.kr/news/articleView.h...   \n",
       "25  http://www.cnbnews.com/news/article.html?no=49...   \n",
       "26             https://www.news1.kr/articles/?4349918   \n",
       "27  https://sports.donga.com/article/all/20210624/...   \n",
       "28  http://www.datanet.co.kr/news/articleView.html...   \n",
       "29  http://www.kpinews.co.kr/news/articleView.html...   \n",
       "\n",
       "                                             title  \n",
       "0           AAI헬스케어, 국내 주요 기업 임직원 대상 '부모안심' 서비스 출시  \n",
       "1              손동연 두산인프라 사장 \"데이터기반 의사결정이 미래경쟁력 핵심\"  \n",
       "2                      美 버크셔 그레이, 창고용 새 AI 이동로봇 공개  \n",
       "3                       진격의 'K방산'…첨단무기 이어 우주까지 넘본다  \n",
       "4              SK텔레콤, 디지털 사각지대 전담센터 개소...정보화 격차 해소  \n",
       "5                  SKT, '디지털 사각지대 전담센터'로 정보격차 해소한다  \n",
       "6             엎치락뒤치락 1위 경쟁, 여성 패션 부문 이커머스서 춘추전국시대   \n",
       "7           광주소방본부, 전국 최초 ‘AI 기반 119신고접수시스템’ 구축 추진  \n",
       "8                      산업부, 10대 업종 산업 디지털 전환 연대 결성  \n",
       "9                        박종훈 경남교육감, 3선 불출마 입장 번복할듯  \n",
       "10                     산업부, 10대 업종 산업 디지털 전환 연대 결성  \n",
       "11  에스디하우징X세수X에스엘비, RE100 플랫폼 비즈니스센터 품은 주상복합 프로...  \n",
       "12                  패션앱도 카카오, 지그재그 인수로 단숨에 업계1위 등극  \n",
       "13                  SKT, 남산에 정보소외계층 위한 디지털 전담센터 개소  \n",
       "14               중기부, 탄소저감 등 강원·충청·경북에 규제자유특구 추진한다  \n",
       "15                    KT, 초등교육 콘텐츠 및 기술 공모전 시상식 개최  \n",
       "16             한강 다리에 AI 기반 CCTV 설치된다… 프라이버시 침해 논란  \n",
       "17                 삼성·LG도 가세한 가전·렌털업계 '홈케어 서비스' 열전  \n",
       "18  내 차에서 제품 추천에 결재까지…투비소프트, AI 기반 맞춤형 상품 추천 장치...  \n",
       "19               진흥기업·효성중공업 '효성해링턴 플레이스 상무역' 분양 예정  \n",
       "20             한강 다리에 AI 기반 CCTV 설치된다… 프라이버시 침해 논란  \n",
       "21                    KT, 초등교육 콘텐츠 및 기술 공모전 시상식 개최  \n",
       "22                 삼성·LG도 가세한 가전·렌털업계 '홈케어 서비스' 열전  \n",
       "23               진흥기업·효성중공업 '효성해링턴 플레이스 상무역' 분양 예정  \n",
       "24  내 차에서 제품 추천에 결재까지…투비소프트, AI 기반 맞춤형 상품 추천 장치...  \n",
       "25            박종훈 교육감 \"미래교육체제 구축해 경남교육 새 비전 제시하겠다\"  \n",
       "26      KLA, 반도체칩 수율과 신뢰성 향상을 위한 자동차용 신제품 포트폴리오 출시  \n",
       "27                         정보화 격차 줄인다…SKT, 전담센터 개소  \n",
       "28     메가존클라우드, 1900억 규모 시리즈 B 투자 유치 성료…세일즈포스 등 참여  \n",
       "29           도로공사, 7월 7일부터 고속도로 휴게소서 폐플라스틱 재활용 캠페인  "
      ]
     },
     "execution_count": 92,
     "metadata": {},
     "output_type": "execute_result"
    }
   ],
   "source": [
    "ai_df"
   ]
  },
  {
   "cell_type": "code",
   "execution_count": 83,
   "metadata": {},
   "outputs": [
    {
     "data": {
      "text/plain": [
       "'C:\\\\Users\\\\user\\\\study'"
      ]
     },
     "execution_count": 83,
     "metadata": {},
     "output_type": "execute_result"
    }
   ],
   "source": [
    "pwd"
   ]
  },
  {
   "cell_type": "code",
   "execution_count": 94,
   "metadata": {},
   "outputs": [],
   "source": [
    "ai_df.to_csv('./ai_df.csv', encoding='cp949')"
   ]
  },
  {
   "cell_type": "markdown",
   "metadata": {},
   "source": [
    "### wordcloud , 형태소 분석"
   ]
  },
  {
   "cell_type": "code",
   "execution_count": 95,
   "metadata": {},
   "outputs": [],
   "source": [
    "import scipy as sp\n",
    "import pandas as pd\n",
    "import numpy as np\n",
    "\n",
    "from konlpy.tag import Kkma       ; kkma = Kkma()\n",
    "from konlpy.tag import Hannanum   ; hannanum = Hannanum()\n",
    "from konlpy.tag import Okt        ; t = Okt()\n",
    "from konlpy.tag import *\n",
    "import pickle\n",
    "\n",
    "from sklearn.feature_extraction.text import CountVectorizer\n",
    "from sklearn.feature_extraction.text import TfidfVectorizer\n",
    "from sklearn.linear_model import LogisticRegression\n",
    "from sklearn.pipeline import Pipeline\n",
    "from sklearn.metrics import accuracy_score\n",
    "from sklearn.model_selection import train_test_split\n",
    "\n",
    "# 그래프\n",
    "%matplotlib inline\n",
    "import os\n",
    "import matplotlib.pyplot as plt\n",
    "import seaborn as sns\n",
    "import graphviz             \n",
    "from sklearn.tree import export_graphviz\n",
    "\n",
    "# 그래프 문자 깨지는 대처\n",
    "import matplotlib\n",
    "from matplotlib import font_manager, rc\n",
    "import platform\n",
    "\n",
    "if platform.system() == 'Windows':\n",
    "# 윈도우인 경우\n",
    "    font_name = font_manager.FontProperties(fname=\"c:/Windows/Fonts/malgun.ttf\").get_name()\n",
    "    rc('font', family=font_name)\n",
    "else:    \n",
    "# Mac 인 경우\n",
    "    rc('font', family='AppleGothic')\n",
    "    \n",
    "matplotlib.rcParams['axes.unicode_minus'] = False   \n",
    "#그래프에서 마이너스 기호가 표시되도록 하는 설정입니다. \n",
    "\n",
    "# 워닝 없애주는 것\n",
    "import warnings  \n",
    "warnings.filterwarnings('ignore')"
   ]
  },
  {
   "cell_type": "code",
   "execution_count": 96,
   "metadata": {},
   "outputs": [
    {
     "data": {
      "text/plain": [
       "'C:\\\\Users\\\\user\\\\study'"
      ]
     },
     "execution_count": 96,
     "metadata": {},
     "output_type": "execute_result"
    }
   ],
   "source": [
    "pwd"
   ]
  },
  {
   "cell_type": "code",
   "execution_count": 97,
   "metadata": {
    "collapsed": true
   },
   "outputs": [
    {
     "name": "stdout",
     "output_type": "stream",
     "text": [
      "(30, 3)\n"
     ]
    },
    {
     "data": {
      "text/html": [
       "<div>\n",
       "<style scoped>\n",
       "    .dataframe tbody tr th:only-of-type {\n",
       "        vertical-align: middle;\n",
       "    }\n",
       "\n",
       "    .dataframe tbody tr th {\n",
       "        vertical-align: top;\n",
       "    }\n",
       "\n",
       "    .dataframe thead th {\n",
       "        text-align: right;\n",
       "    }\n",
       "</style>\n",
       "<table border=\"1\" class=\"dataframe\">\n",
       "  <thead>\n",
       "    <tr style=\"text-align: right;\">\n",
       "      <th></th>\n",
       "      <th>Unnamed: 0</th>\n",
       "      <th>url</th>\n",
       "      <th>title</th>\n",
       "    </tr>\n",
       "  </thead>\n",
       "  <tbody>\n",
       "    <tr>\n",
       "      <th>0</th>\n",
       "      <td>0</td>\n",
       "      <td>http://www.consumernews.co.kr/news/articleView...</td>\n",
       "      <td>AAI헬스케어, 국내 주요 기업 임직원 대상 '부모안심' 서비스 출시</td>\n",
       "    </tr>\n",
       "    <tr>\n",
       "      <th>1</th>\n",
       "      <td>1</td>\n",
       "      <td>http://news.mk.co.kr/newsRead.php?no=611874&amp;ye...</td>\n",
       "      <td>손동연 두산인프라 사장 \"데이터기반 의사결정이 미래경쟁력 핵심\"</td>\n",
       "    </tr>\n",
       "    <tr>\n",
       "      <th>2</th>\n",
       "      <td>2</td>\n",
       "      <td>http://www.irobotnews.com/news/articleView.htm...</td>\n",
       "      <td>美 버크셔 그레이, 창고용 새 AI 이동로봇 공개</td>\n",
       "    </tr>\n",
       "    <tr>\n",
       "      <th>3</th>\n",
       "      <td>3</td>\n",
       "      <td>https://www.hankyung.com/politics/article/2021...</td>\n",
       "      <td>진격의 'K방산'…첨단무기 이어 우주까지 넘본다</td>\n",
       "    </tr>\n",
       "    <tr>\n",
       "      <th>4</th>\n",
       "      <td>4</td>\n",
       "      <td>http://www.updownnews.co.kr/news/articleView.h...</td>\n",
       "      <td>SK텔레콤, 디지털 사각지대 전담센터 개소...정보화 격차 해소</td>\n",
       "    </tr>\n",
       "    <tr>\n",
       "      <th>5</th>\n",
       "      <td>5</td>\n",
       "      <td>http://www.sporbiz.co.kr/news/articleView.html...</td>\n",
       "      <td>SKT, '디지털 사각지대 전담센터'로 정보격차 해소한다</td>\n",
       "    </tr>\n",
       "    <tr>\n",
       "      <th>6</th>\n",
       "      <td>6</td>\n",
       "      <td>http://www.m-i.kr/news/articleView.html?idxno=...</td>\n",
       "      <td>엎치락뒤치락 1위 경쟁, 여성 패션 부문 이커머스서 춘추전국시대</td>\n",
       "    </tr>\n",
       "    <tr>\n",
       "      <th>7</th>\n",
       "      <td>7</td>\n",
       "      <td>https://view.asiae.co.kr/article/2021062415162...</td>\n",
       "      <td>광주소방본부, 전국 최초 ‘AI 기반 119신고접수시스템’ 구축 추진</td>\n",
       "    </tr>\n",
       "    <tr>\n",
       "      <th>8</th>\n",
       "      <td>8</td>\n",
       "      <td>http://www.digitaltoday.co.kr/news/articleView...</td>\n",
       "      <td>산업부, 10대 업종 산업 디지털 전환 연대 결성</td>\n",
       "    </tr>\n",
       "    <tr>\n",
       "      <th>9</th>\n",
       "      <td>9</td>\n",
       "      <td>http://www.busan.com/view/busan/view.php?code=...</td>\n",
       "      <td>박종훈 경남교육감, 3선 불출마 입장 번복할듯</td>\n",
       "    </tr>\n",
       "  </tbody>\n",
       "</table>\n",
       "</div>"
      ],
      "text/plain": [
       "   Unnamed: 0                                                url  \\\n",
       "0           0  http://www.consumernews.co.kr/news/articleView...   \n",
       "1           1  http://news.mk.co.kr/newsRead.php?no=611874&ye...   \n",
       "2           2  http://www.irobotnews.com/news/articleView.htm...   \n",
       "3           3  https://www.hankyung.com/politics/article/2021...   \n",
       "4           4  http://www.updownnews.co.kr/news/articleView.h...   \n",
       "5           5  http://www.sporbiz.co.kr/news/articleView.html...   \n",
       "6           6  http://www.m-i.kr/news/articleView.html?idxno=...   \n",
       "7           7  https://view.asiae.co.kr/article/2021062415162...   \n",
       "8           8  http://www.digitaltoday.co.kr/news/articleView...   \n",
       "9           9  http://www.busan.com/view/busan/view.php?code=...   \n",
       "\n",
       "                                    title  \n",
       "0  AAI헬스케어, 국내 주요 기업 임직원 대상 '부모안심' 서비스 출시  \n",
       "1     손동연 두산인프라 사장 \"데이터기반 의사결정이 미래경쟁력 핵심\"  \n",
       "2             美 버크셔 그레이, 창고용 새 AI 이동로봇 공개  \n",
       "3              진격의 'K방산'…첨단무기 이어 우주까지 넘본다  \n",
       "4     SK텔레콤, 디지털 사각지대 전담센터 개소...정보화 격차 해소  \n",
       "5         SKT, '디지털 사각지대 전담센터'로 정보격차 해소한다  \n",
       "6    엎치락뒤치락 1위 경쟁, 여성 패션 부문 이커머스서 춘추전국시대   \n",
       "7  광주소방본부, 전국 최초 ‘AI 기반 119신고접수시스템’ 구축 추진  \n",
       "8             산업부, 10대 업종 산업 디지털 전환 연대 결성  \n",
       "9               박종훈 경남교육감, 3선 불출마 입장 번복할듯  "
      ]
     },
     "execution_count": 97,
     "metadata": {},
     "output_type": "execute_result"
    }
   ],
   "source": [
    "df_title = pd.read_csv('./ai_df.csv', encoding='cp949')\n",
    "print(df_title.shape)\n",
    "df_title.head(10)"
   ]
  },
  {
   "cell_type": "code",
   "execution_count": 99,
   "metadata": {
    "collapsed": true
   },
   "outputs": [
    {
     "data": {
      "text/plain": [
       "0             AAI헬스케어, 국내 주요 기업 임직원 대상 '부모안심' 서비스 출시\n",
       "1                손동연 두산인프라 사장 \"데이터기반 의사결정이 미래경쟁력 핵심\"\n",
       "2                        美 버크셔 그레이, 창고용 새 AI 이동로봇 공개\n",
       "3                         진격의 'K방산'…첨단무기 이어 우주까지 넘본다\n",
       "4                SK텔레콤, 디지털 사각지대 전담센터 개소...정보화 격차 해소\n",
       "5                    SKT, '디지털 사각지대 전담센터'로 정보격차 해소한다\n",
       "6               엎치락뒤치락 1위 경쟁, 여성 패션 부문 이커머스서 춘추전국시대 \n",
       "7             광주소방본부, 전국 최초 ‘AI 기반 119신고접수시스템’ 구축 추진\n",
       "8                        산업부, 10대 업종 산업 디지털 전환 연대 결성\n",
       "9                          박종훈 경남교육감, 3선 불출마 입장 번복할듯\n",
       "10                       산업부, 10대 업종 산업 디지털 전환 연대 결성\n",
       "11    에스디하우징X세수X에스엘비, RE100 플랫폼 비즈니스센터 품은 주상복합 프로...\n",
       "12                    패션앱도 카카오, 지그재그 인수로 단숨에 업계1위 등극\n",
       "13                    SKT, 남산에 정보소외계층 위한 디지털 전담센터 개소\n",
       "14                 중기부, 탄소저감 등 강원·충청·경북에 규제자유특구 추진한다\n",
       "15                      KT, 초등교육 콘텐츠 및 기술 공모전 시상식 개최\n",
       "16               한강 다리에 AI 기반 CCTV 설치된다… 프라이버시 침해 논란\n",
       "17                   삼성·LG도 가세한 가전·렌털업계 '홈케어 서비스' 열전\n",
       "18    내 차에서 제품 추천에 결재까지…투비소프트, AI 기반 맞춤형 상품 추천 장치...\n",
       "19                 진흥기업·효성중공업 '효성해링턴 플레이스 상무역' 분양 예정\n",
       "20               한강 다리에 AI 기반 CCTV 설치된다… 프라이버시 침해 논란\n",
       "21                      KT, 초등교육 콘텐츠 및 기술 공모전 시상식 개최\n",
       "22                   삼성·LG도 가세한 가전·렌털업계 '홈케어 서비스' 열전\n",
       "23                 진흥기업·효성중공업 '효성해링턴 플레이스 상무역' 분양 예정\n",
       "24    내 차에서 제품 추천에 결재까지…투비소프트, AI 기반 맞춤형 상품 추천 장치...\n",
       "25              박종훈 교육감 \"미래교육체제 구축해 경남교육 새 비전 제시하겠다\"\n",
       "26        KLA, 반도체칩 수율과 신뢰성 향상을 위한 자동차용 신제품 포트폴리오 출시\n",
       "27                           정보화 격차 줄인다…SKT, 전담센터 개소\n",
       "28       메가존클라우드, 1900억 규모 시리즈 B 투자 유치 성료…세일즈포스 등 참여\n",
       "29             도로공사, 7월 7일부터 고속도로 휴게소서 폐플라스틱 재활용 캠페인\n",
       "Name: title, dtype: object"
      ]
     },
     "execution_count": 99,
     "metadata": {},
     "output_type": "execute_result"
    }
   ],
   "source": [
    "df_title.title"
   ]
  },
  {
   "cell_type": "code",
   "execution_count": 100,
   "metadata": {
    "collapsed": true
   },
   "outputs": [
    {
     "name": "stdout",
     "output_type": "stream",
     "text": [
      "30\n"
     ]
    },
    {
     "data": {
      "text/plain": [
       "[\"AAI헬스케어, 국내 주요 기업 임직원 대상 '부모안심' 서비스 출시\",\n",
       " '손동연 두산인프라 사장 \"데이터기반 의사결정이 미래경쟁력 핵심\"',\n",
       " '美 버크셔 그레이, 창고용 새 AI 이동로봇 공개',\n",
       " \"진격의 'K방산'…첨단무기 이어 우주까지 넘본다\",\n",
       " 'SK텔레콤, 디지털 사각지대 전담센터 개소...정보화 격차 해소',\n",
       " \"SKT, '디지털 사각지대 전담센터'로 정보격차 해소한다\",\n",
       " '엎치락뒤치락 1위 경쟁, 여성 패션 부문 이커머스서 춘추전국시대 ',\n",
       " '광주소방본부, 전국 최초 ‘AI 기반 119신고접수시스템’ 구축 추진',\n",
       " '산업부, 10대 업종 산업 디지털 전환 연대 결성',\n",
       " '박종훈 경남교육감, 3선 불출마 입장 번복할듯',\n",
       " '산업부, 10대 업종 산업 디지털 전환 연대 결성',\n",
       " '에스디하우징X세수X에스엘비, RE100 플랫폼 비즈니스센터 품은 주상복합 프로...',\n",
       " '패션앱도 카카오, 지그재그 인수로 단숨에 업계1위 등극',\n",
       " 'SKT, 남산에 정보소외계층 위한 디지털 전담센터 개소',\n",
       " '중기부, 탄소저감 등 강원·충청·경북에 규제자유특구 추진한다',\n",
       " 'KT, 초등교육 콘텐츠 및 기술 공모전 시상식 개최',\n",
       " '한강 다리에 AI 기반 CCTV 설치된다… 프라이버시 침해 논란',\n",
       " \"삼성·LG도 가세한 가전·렌털업계 '홈케어 서비스' 열전\",\n",
       " '내 차에서 제품 추천에 결재까지…투비소프트, AI 기반 맞춤형 상품 추천 장치...',\n",
       " \"진흥기업·효성중공업 '효성해링턴 플레이스 상무역' 분양 예정\",\n",
       " '한강 다리에 AI 기반 CCTV 설치된다… 프라이버시 침해 논란',\n",
       " 'KT, 초등교육 콘텐츠 및 기술 공모전 시상식 개최',\n",
       " \"삼성·LG도 가세한 가전·렌털업계 '홈케어 서비스' 열전\",\n",
       " \"진흥기업·효성중공업 '효성해링턴 플레이스 상무역' 분양 예정\",\n",
       " '내 차에서 제품 추천에 결재까지…투비소프트, AI 기반 맞춤형 상품 추천 장치...',\n",
       " '박종훈 교육감 \"미래교육체제 구축해 경남교육 새 비전 제시하겠다\"',\n",
       " 'KLA, 반도체칩 수율과 신뢰성 향상을 위한 자동차용 신제품 포트폴리오 출시',\n",
       " '정보화 격차 줄인다…SKT, 전담센터 개소',\n",
       " '메가존클라우드, 1900억 규모 시리즈 B 투자 유치 성료…세일즈포스 등 참여',\n",
       " '도로공사, 7월 7일부터 고속도로 휴게소서 폐플라스틱 재활용 캠페인']"
      ]
     },
     "execution_count": 100,
     "metadata": {},
     "output_type": "execute_result"
    }
   ],
   "source": [
    "content_list = df_title.title.values.tolist()\n",
    "print(len(content_list))\n",
    "content_list"
   ]
  },
  {
   "cell_type": "code",
   "execution_count": 101,
   "metadata": {},
   "outputs": [],
   "source": [
    "# NaN값이나 공백 제거하는 방법\n",
    "#  content_list = [x.strip() for x in content_list if type(x) == str]"
   ]
  },
  {
   "cell_type": "code",
   "execution_count": 102,
   "metadata": {
    "collapsed": true
   },
   "outputs": [
    {
     "name": "stdout",
     "output_type": "stream",
     "text": [
      "AAI헬스케어, 국내 주요 기업 임직원 대상 '부모안심' 서비스 출시\n",
      "손동연 두산인프라 사장 \"데이터기반 의사결정이 미래경쟁력 핵심\"\n",
      "美 버크셔 그레이, 창고용 새 AI 이동로봇 공개\n",
      "진격의 'K방산'…첨단무기 이어 우주까지 넘본다\n",
      "SK텔레콤, 디지털 사각지대 전담센터 개소...정보화 격차 해소\n",
      "SKT, '디지털 사각지대 전담센터'로 정보격차 해소한다\n",
      "엎치락뒤치락 1위 경쟁, 여성 패션 부문 이커머스서 춘추전국시대 \n",
      "광주소방본부, 전국 최초 ‘AI 기반 119신고접수시스템’ 구축 추진\n",
      "산업부, 10대 업종 산업 디지털 전환 연대 결성\n",
      "박종훈 경남교육감, 3선 불출마 입장 번복할듯\n",
      "산업부, 10대 업종 산업 디지털 전환 연대 결성\n",
      "에스디하우징X세수X에스엘비, RE100 플랫폼 비즈니스센터 품은 주상복합 프로...\n",
      "패션앱도 카카오, 지그재그 인수로 단숨에 업계1위 등극\n",
      "SKT, 남산에 정보소외계층 위한 디지털 전담센터 개소\n",
      "중기부, 탄소저감 등 강원·충청·경북에 규제자유특구 추진한다\n",
      "KT, 초등교육 콘텐츠 및 기술 공모전 시상식 개최\n",
      "한강 다리에 AI 기반 CCTV 설치된다… 프라이버시 침해 논란\n",
      "삼성·LG도 가세한 가전·렌털업계 '홈케어 서비스' 열전\n",
      "내 차에서 제품 추천에 결재까지…투비소프트, AI 기반 맞춤형 상품 추천 장치...\n",
      "진흥기업·효성중공업 '효성해링턴 플레이스 상무역' 분양 예정\n",
      "한강 다리에 AI 기반 CCTV 설치된다… 프라이버시 침해 논란\n",
      "KT, 초등교육 콘텐츠 및 기술 공모전 시상식 개최\n",
      "삼성·LG도 가세한 가전·렌털업계 '홈케어 서비스' 열전\n",
      "진흥기업·효성중공업 '효성해링턴 플레이스 상무역' 분양 예정\n",
      "내 차에서 제품 추천에 결재까지…투비소프트, AI 기반 맞춤형 상품 추천 장치...\n",
      "박종훈 교육감 \"미래교육체제 구축해 경남교육 새 비전 제시하겠다\"\n",
      "KLA, 반도체칩 수율과 신뢰성 향상을 위한 자동차용 신제품 포트폴리오 출시\n",
      "정보화 격차 줄인다…SKT, 전담센터 개소\n",
      "메가존클라우드, 1900억 규모 시리즈 B 투자 유치 성료…세일즈포스 등 참여\n",
      "도로공사, 7월 7일부터 고속도로 휴게소서 폐플라스틱 재활용 캠페인\n",
      "\n"
     ]
    }
   ],
   "source": [
    "import nltk\n",
    "from konlpy.tag import Okt; t = Okt()\n",
    "\n",
    "content_text = ''\n",
    "\n",
    "for each_line in content_list:\n",
    "    content_text = content_text + each_line + '\\n'\n",
    "print(content_text)"
   ]
  },
  {
   "cell_type": "code",
   "execution_count": 105,
   "metadata": {
    "collapsed": true
   },
   "outputs": [
    {
     "data": {
      "text/plain": [
       "['헬',\n",
       " '스케',\n",
       " '국내',\n",
       " '주요',\n",
       " '기업',\n",
       " '임',\n",
       " '직원',\n",
       " '대상',\n",
       " '부모',\n",
       " '안심',\n",
       " '서비스',\n",
       " '출시',\n",
       " '손',\n",
       " '동연',\n",
       " '두산',\n",
       " '인프라',\n",
       " '사장',\n",
       " '데이터',\n",
       " '기반',\n",
       " '의사결정',\n",
       " '미래',\n",
       " '경쟁력',\n",
       " '핵심',\n",
       " '버크셔',\n",
       " '그레이',\n",
       " '창고',\n",
       " '용',\n",
       " '새',\n",
       " '이동',\n",
       " '로봇',\n",
       " '공개',\n",
       " '진격',\n",
       " '방산',\n",
       " '첨단',\n",
       " '무기',\n",
       " '우주',\n",
       " '텔레콤',\n",
       " '디지털',\n",
       " '사각',\n",
       " '지대',\n",
       " '전담',\n",
       " '센터',\n",
       " '정보화',\n",
       " '격차',\n",
       " '해소',\n",
       " '디지털',\n",
       " '사각',\n",
       " '지대',\n",
       " '전담',\n",
       " '센터',\n",
       " '로',\n",
       " '정보격차',\n",
       " '해소',\n",
       " '엎치락뒤치락',\n",
       " '위',\n",
       " '경쟁',\n",
       " '여성',\n",
       " '패션',\n",
       " '부문',\n",
       " '이커머스',\n",
       " '춘추전국시대',\n",
       " '광주',\n",
       " '소방본부',\n",
       " '전국',\n",
       " '최초',\n",
       " '기반',\n",
       " '신고',\n",
       " '접수',\n",
       " '시스템',\n",
       " '구축',\n",
       " '추진',\n",
       " '산업부',\n",
       " '업종',\n",
       " '산업',\n",
       " '디지털',\n",
       " '전환',\n",
       " '연대',\n",
       " '결성',\n",
       " '박종훈',\n",
       " '경남',\n",
       " '교육감',\n",
       " '선',\n",
       " '불',\n",
       " '출마',\n",
       " '입장',\n",
       " '번복',\n",
       " '산업부',\n",
       " '업종',\n",
       " '산업',\n",
       " '디지털',\n",
       " '전환',\n",
       " '연대',\n",
       " '결성',\n",
       " '에스',\n",
       " '디',\n",
       " '징',\n",
       " '세수',\n",
       " '에스엘',\n",
       " '비',\n",
       " '플랫폼',\n",
       " '비즈니스',\n",
       " '센터',\n",
       " '주상',\n",
       " '복합',\n",
       " '프로',\n",
       " '패션',\n",
       " '앱',\n",
       " '카카오',\n",
       " '지그재그',\n",
       " '인수',\n",
       " '단숨',\n",
       " '업계',\n",
       " '위',\n",
       " '등',\n",
       " '남산',\n",
       " '정보',\n",
       " '소외',\n",
       " '계층',\n",
       " '위',\n",
       " '디지털',\n",
       " '전담',\n",
       " '센터',\n",
       " '중',\n",
       " '기부',\n",
       " '탄소',\n",
       " '감',\n",
       " '등',\n",
       " '강원',\n",
       " '충청',\n",
       " '경북',\n",
       " '규제',\n",
       " '자유',\n",
       " '특구',\n",
       " '추진',\n",
       " '초등교육',\n",
       " '콘텐츠',\n",
       " '및',\n",
       " '기술',\n",
       " '공모전',\n",
       " '시상식',\n",
       " '개최',\n",
       " '한강',\n",
       " '다리',\n",
       " '기반',\n",
       " '설치',\n",
       " '프라이버시',\n",
       " '침해',\n",
       " '논란',\n",
       " '삼성',\n",
       " '도',\n",
       " '가세',\n",
       " '가전',\n",
       " '렌털',\n",
       " '업계',\n",
       " '홈',\n",
       " '케어',\n",
       " '서비스',\n",
       " '열전',\n",
       " '내',\n",
       " '차',\n",
       " '제품',\n",
       " '추천',\n",
       " '결재',\n",
       " '투비소프트',\n",
       " '기반',\n",
       " '맞춤',\n",
       " '상품',\n",
       " '추천',\n",
       " '장치',\n",
       " '진흥',\n",
       " '기업',\n",
       " '효성',\n",
       " '중공업',\n",
       " '효성',\n",
       " '해링턴',\n",
       " '레이스',\n",
       " '상무역',\n",
       " '분양',\n",
       " '예정',\n",
       " '한강',\n",
       " '다리',\n",
       " '기반',\n",
       " '설치',\n",
       " '프라이버시',\n",
       " '침해',\n",
       " '논란',\n",
       " '초등교육',\n",
       " '콘텐츠',\n",
       " '및',\n",
       " '기술',\n",
       " '공모전',\n",
       " '시상식',\n",
       " '개최',\n",
       " '삼성',\n",
       " '도',\n",
       " '가세',\n",
       " '가전',\n",
       " '렌털',\n",
       " '업계',\n",
       " '홈',\n",
       " '케어',\n",
       " '서비스',\n",
       " '열전',\n",
       " '진흥',\n",
       " '기업',\n",
       " '효성',\n",
       " '중공업',\n",
       " '효성',\n",
       " '해링턴',\n",
       " '레이스',\n",
       " '상무역',\n",
       " '분양',\n",
       " '예정',\n",
       " '내',\n",
       " '차',\n",
       " '제품',\n",
       " '추천',\n",
       " '결재',\n",
       " '투비소프트',\n",
       " '기반',\n",
       " '맞춤',\n",
       " '상품',\n",
       " '추천',\n",
       " '장치',\n",
       " '박종훈',\n",
       " '교육감',\n",
       " '미래',\n",
       " '교육',\n",
       " '체제',\n",
       " '구축',\n",
       " '경남',\n",
       " '교육',\n",
       " '새',\n",
       " '제시',\n",
       " '반도체',\n",
       " '칩',\n",
       " '율과',\n",
       " '신뢰',\n",
       " '향상',\n",
       " '위',\n",
       " '자동',\n",
       " '차용',\n",
       " '신제품',\n",
       " '포트폴리오',\n",
       " '출시',\n",
       " '정보화',\n",
       " '격차',\n",
       " '전담',\n",
       " '센터',\n",
       " '메',\n",
       " '존',\n",
       " '클라우드',\n",
       " '규모',\n",
       " '시리즈',\n",
       " '투자',\n",
       " '유치',\n",
       " '료',\n",
       " '포스',\n",
       " '등',\n",
       " '참여',\n",
       " '도로공사',\n",
       " '고속도로',\n",
       " '휴게소',\n",
       " '폐',\n",
       " '플라스틱',\n",
       " '재활용',\n",
       " '캠페인']"
      ]
     },
     "execution_count": 105,
     "metadata": {},
     "output_type": "execute_result"
    }
   ],
   "source": [
    "tokens_ko = t.nouns(content_text)   # nouns (명사) /morphs (형태소) // t = okt()\n",
    "tokens_ko"
   ]
  },
  {
   "cell_type": "code",
   "execution_count": 106,
   "metadata": {},
   "outputs": [],
   "source": [
    "ko = nltk.Text(tokens_ko)"
   ]
  },
  {
   "cell_type": "code",
   "execution_count": 109,
   "metadata": {},
   "outputs": [
    {
     "name": "stdout",
     "output_type": "stream",
     "text": [
      "267\n",
      "177\n"
     ]
    }
   ],
   "source": [
    "print(len(ko.tokens))          # 토큰 전체 갯수\n",
    "print(len(set(ko.tokens)))  #중복제거"
   ]
  },
  {
   "cell_type": "code",
   "execution_count": 119,
   "metadata": {},
   "outputs": [
    {
     "data": {
      "text/plain": [
       "[('기반', 6),\n",
       " ('디지털', 5),\n",
       " ('센터', 5),\n",
       " ('전담', 4),\n",
       " ('추천', 4),\n",
       " ('효성', 4),\n",
       " ('기업', 3),\n",
       " ('서비스', 3),\n",
       " ('업계', 3),\n",
       " ('출시', 2),\n",
       " ('미래', 2),\n",
       " ('사각', 2),\n",
       " ('지대', 2),\n",
       " ('정보화', 2),\n",
       " ('격차', 2),\n",
       " ('해소', 2),\n",
       " ('패션', 2),\n",
       " ('구축', 2),\n",
       " ('추진', 2),\n",
       " ('산업부', 2),\n",
       " ('업종', 2),\n",
       " ('산업', 2),\n",
       " ('전환', 2),\n",
       " ('연대', 2),\n",
       " ('결성', 2),\n",
       " ('박종훈', 2),\n",
       " ('경남', 2),\n",
       " ('교육감', 2),\n",
       " ('초등교육', 2),\n",
       " ('콘텐츠', 2),\n",
       " ('기술', 2),\n",
       " ('공모전', 2),\n",
       " ('시상식', 2),\n",
       " ('개최', 2),\n",
       " ('한강', 2),\n",
       " ('다리', 2),\n",
       " ('설치', 2),\n",
       " ('프라이버시', 2),\n",
       " ('침해', 2),\n",
       " ('논란', 2),\n",
       " ('삼성', 2),\n",
       " ('가세', 2),\n",
       " ('가전', 2),\n",
       " ('렌털', 2),\n",
       " ('홈', 2),\n",
       " ('케어', 2),\n",
       " ('열전', 2),\n",
       " ('차', 2),\n",
       " ('제품', 2),\n",
       " ('결재', 2)]"
      ]
     },
     "execution_count": 119,
     "metadata": {},
     "output_type": "execute_result"
    }
   ],
   "source": [
    "# stopwords 처리작업 전\n",
    "ko.vocab().most_common(50) "
   ]
  },
  {
   "cell_type": "code",
   "execution_count": 123,
   "metadata": {
    "collapsed": true
   },
   "outputs": [
    {
     "data": {
      "text/plain": [
       "[('기반', 6),\n",
       " ('디지털', 5),\n",
       " ('센터', 5),\n",
       " ('전담', 4),\n",
       " ('추천', 4),\n",
       " ('효성', 4),\n",
       " ('기업', 3),\n",
       " ('서비스', 3),\n",
       " ('업계', 3),\n",
       " ('출시', 2),\n",
       " ('미래', 2),\n",
       " ('사각', 2),\n",
       " ('지대', 2),\n",
       " ('정보화', 2),\n",
       " ('격차', 2),\n",
       " ('해소', 2),\n",
       " ('패션', 2),\n",
       " ('구축', 2),\n",
       " ('추진', 2),\n",
       " ('산업부', 2),\n",
       " ('업종', 2),\n",
       " ('산업', 2),\n",
       " ('전환', 2),\n",
       " ('연대', 2),\n",
       " ('결성', 2),\n",
       " ('박종훈', 2),\n",
       " ('경남', 2),\n",
       " ('교육감', 2),\n",
       " ('초등교육', 2),\n",
       " ('콘텐츠', 2),\n",
       " ('기술', 2),\n",
       " ('공모전', 2),\n",
       " ('시상식', 2),\n",
       " ('개최', 2),\n",
       " ('한강', 2),\n",
       " ('다리', 2),\n",
       " ('설치', 2),\n",
       " ('프라이버시', 2),\n",
       " ('침해', 2),\n",
       " ('논란', 2),\n",
       " ('삼성', 2),\n",
       " ('가세', 2),\n",
       " ('가전', 2),\n",
       " ('렌털', 2),\n",
       " ('홈', 2),\n",
       " ('케어', 2),\n",
       " ('열전', 2),\n",
       " ('차', 2),\n",
       " ('제품', 2),\n",
       " ('결재', 2)]"
      ]
     },
     "execution_count": 123,
     "metadata": {},
     "output_type": "execute_result"
    }
   ],
   "source": [
    "# 불용어 : 인터넷 검색 시 검색 용어로 사용하지 않는 단어. 관사, 전치사, 조사, 접속사 등 검색 색인 단어로 의미가 없는 단어\n",
    "stop_words = ['.','가',\"!\",'\\r\\n\\r\\n','\\r\\n','\\n','\\n ','요','답변','...','을','수','에','질문','제','를','이','도',\n",
    "                      '좋','1','는','로','으로','2','것','은','다',',','니다','대','들','용','로','내','차'\n",
    "                      '2017','들','데','..','의','때','겠','고','게','네요','한','일','할','헬','위',\n",
    "                      '10','?','하는','06','주','려고','인데','거','좀','는데','~','ㅎㅎ',\n",
    "                      '하나','이상','20','뭐','까','있는','잘','습니다','다면','했','주려',\n",
    "                      '지','있','못','후','중','줄','6','과','어떤','기본','!!',\n",
    "                      '단어','라고','중요한','합','가요','....','보이','네','무지','새' ,'및','등',\n",
    "              # '제주'에서 큰 의미없는 단어 제외\n",
    "              '제주','여행','제주도','일상','손','위']\n",
    "        \n",
    "\n",
    "tokens_ko = [each_word for each_word in tokens_ko\n",
    "             if each_word not in stop_words]\n",
    "\n",
    "ko = nltk.Text(tokens_ko)\n",
    "freq_50 = ko.vocab().most_common(50)\n",
    "freq_50"
   ]
  },
  {
   "cell_type": "code",
   "execution_count": 124,
   "metadata": {},
   "outputs": [
    {
     "data": {
      "text/plain": [
       "('기반', 6)"
      ]
     },
     "execution_count": 124,
     "metadata": {},
     "output_type": "execute_result"
    }
   ],
   "source": [
    "freq_50[0]"
   ]
  },
  {
   "cell_type": "code",
   "execution_count": 125,
   "metadata": {},
   "outputs": [],
   "source": [
    "word_list = []\n",
    "for i, word in enumerate(freq_50):\n",
    "    word_list.append(word[0])"
   ]
  },
  {
   "cell_type": "code",
   "execution_count": 126,
   "metadata": {
    "scrolled": true
   },
   "outputs": [
    {
     "data": {
      "image/png": "[encoded data removed]",
      "text/plain": [
       "<Figure size 1080x432 with 1 Axes>"
      ]
     },
     "metadata": {
      "needs_background": "light"
     },
     "output_type": "display_data"
    }
   ],
   "source": [
    "import matplotlib.pyplot as plt\n",
    "import seaborn as sns\n",
    "import graphviz             \n",
    "from sklearn.tree import export_graphviz\n",
    "\n",
    "plt.figure(figsize=(15,6))\n",
    "ko.plot(70) \n",
    "plt.show()"
   ]
  },
  {
   "cell_type": "code",
   "execution_count": 128,
   "metadata": {
    "collapsed": true
   },
   "outputs": [
    {
     "data": {
      "text/plain": [
       "[('기반', 6),\n",
       " ('디지털', 5),\n",
       " ('센터', 5),\n",
       " ('전담', 4),\n",
       " ('추천', 4),\n",
       " ('효성', 4),\n",
       " ('기업', 3),\n",
       " ('서비스', 3),\n",
       " ('업계', 3),\n",
       " ('출시', 2),\n",
       " ('미래', 2),\n",
       " ('사각', 2),\n",
       " ('지대', 2),\n",
       " ('정보화', 2),\n",
       " ('격차', 2),\n",
       " ('해소', 2),\n",
       " ('패션', 2),\n",
       " ('구축', 2),\n",
       " ('추진', 2),\n",
       " ('산업부', 2),\n",
       " ('업종', 2),\n",
       " ('산업', 2),\n",
       " ('전환', 2),\n",
       " ('연대', 2),\n",
       " ('결성', 2),\n",
       " ('박종훈', 2),\n",
       " ('경남', 2),\n",
       " ('교육감', 2),\n",
       " ('초등교육', 2),\n",
       " ('콘텐츠', 2),\n",
       " ('기술', 2),\n",
       " ('공모전', 2),\n",
       " ('시상식', 2),\n",
       " ('개최', 2),\n",
       " ('한강', 2),\n",
       " ('다리', 2),\n",
       " ('설치', 2),\n",
       " ('프라이버시', 2),\n",
       " ('침해', 2),\n",
       " ('논란', 2),\n",
       " ('삼성', 2),\n",
       " ('가세', 2),\n",
       " ('가전', 2),\n",
       " ('렌털', 2),\n",
       " ('홈', 2),\n",
       " ('케어', 2),\n",
       " ('열전', 2),\n",
       " ('차', 2),\n",
       " ('제품', 2),\n",
       " ('결재', 2),\n",
       " ('투비소프트', 2),\n",
       " ('맞춤', 2),\n",
       " ('상품', 2),\n",
       " ('장치', 2),\n",
       " ('진흥', 2),\n",
       " ('중공업', 2),\n",
       " ('해링턴', 2),\n",
       " ('레이스', 2),\n",
       " ('상무역', 2),\n",
       " ('분양', 2),\n",
       " ('예정', 2),\n",
       " ('교육', 2),\n",
       " ('스케', 1),\n",
       " ('국내', 1),\n",
       " ('주요', 1),\n",
       " ('임', 1),\n",
       " ('직원', 1),\n",
       " ('대상', 1),\n",
       " ('부모', 1),\n",
       " ('안심', 1),\n",
       " ('동연', 1),\n",
       " ('두산', 1),\n",
       " ('인프라', 1),\n",
       " ('사장', 1),\n",
       " ('데이터', 1),\n",
       " ('의사결정', 1),\n",
       " ('경쟁력', 1),\n",
       " ('핵심', 1),\n",
       " ('버크셔', 1),\n",
       " ('그레이', 1),\n",
       " ('창고', 1),\n",
       " ('이동', 1),\n",
       " ('로봇', 1),\n",
       " ('공개', 1),\n",
       " ('진격', 1),\n",
       " ('방산', 1),\n",
       " ('첨단', 1),\n",
       " ('무기', 1),\n",
       " ('우주', 1),\n",
       " ('텔레콤', 1),\n",
       " ('정보격차', 1),\n",
       " ('엎치락뒤치락', 1),\n",
       " ('경쟁', 1),\n",
       " ('여성', 1),\n",
       " ('부문', 1),\n",
       " ('이커머스', 1),\n",
       " ('춘추전국시대', 1),\n",
       " ('광주', 1),\n",
       " ('소방본부', 1),\n",
       " ('전국', 1)]"
      ]
     },
     "execution_count": 128,
     "metadata": {},
     "output_type": "execute_result"
    }
   ],
   "source": [
    "from wordcloud import WordCloud, STOPWORDS\n",
    "from PIL import Image\n",
    "\n",
    "data = ko.vocab().most_common(100)\n",
    "data"
   ]
  },
  {
   "cell_type": "code",
   "execution_count": 131,
   "metadata": {},
   "outputs": [
    {
     "data": {
      "image/png": "[encoded data removed]",
      "text/plain": [
       "<Figure size 1152x576 with 1 Axes>"
      ]
     },
     "metadata": {
      "needs_background": "light"
     },
     "output_type": "display_data"
    }
   ],
   "source": [
    "wordcloud = WordCloud(font_path=\"C:\\Windows\\Fonts\\malgun.ttf\",\n",
    "                      relative_scaling = 0.2,\n",
    "                      #stopwords=STOPWORDS,\n",
    "                      background_color='white',\n",
    "                      ).generate_from_frequencies(dict(data))\n",
    "plt.figure(figsize=(16,8))\n",
    "plt.imshow(wordcloud)\n",
    "plt.axis(\"off\")\n",
    "plt.show()"
   ]
  },
  {
   "cell_type": "code",
   "execution_count": null,
   "metadata": {},
   "outputs": [],
   "source": []
  }
 ],
 "metadata": {
  "kernelspec": {
   "display_name": "Python 3",
   "language": "python",
   "name": "python3"
  },
  "language_info": {
   "codemirror_mode": {
    "name": "ipython",
    "version": 3
   },
   "file_extension": ".py",
   "mimetype": "text/x-python",
   "name": "python",
   "nbconvert_exporter": "python",
   "pygments_lexer": "ipython3",
   "version": "3.8.5"
  }
 },
 "nbformat": 4,
 "nbformat_minor": 4
}
